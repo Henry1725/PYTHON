{
  "nbformat": 4,
  "nbformat_minor": 0,
  "metadata": {
    "colab": {
      "provenance": [],
      "authorship_tag": "ABX9TyPf8WGym5nXv/QOdfxE4ESS",
      "include_colab_link": true
    },
    "kernelspec": {
      "name": "python3",
      "display_name": "Python 3"
    },
    "language_info": {
      "name": "python"
    }
  },
  "cells": [
    {
      "cell_type": "markdown",
      "metadata": {
        "id": "view-in-github",
        "colab_type": "text"
      },
      "source": [
        "<a href=\"https://colab.research.google.com/github/Henry1725/PYTHON/blob/main/IEL_Clase2.ipynb\" target=\"_parent\"><img src=\"https://colab.research.google.com/assets/colab-badge.svg\" alt=\"Open In Colab\"/></a>"
      ]
    },
    {
      "cell_type": "code",
      "execution_count": 2,
      "metadata": {
        "colab": {
          "base_uri": "https://localhost:8080/"
        },
        "id": "ZP8U920hJvly",
        "outputId": "bf761884-26c8-49b4-d4cf-a2a2497f2013"
      },
      "outputs": [
        {
          "output_type": "stream",
          "name": "stdout",
          "text": [
            "[20 60 50]\n"
          ]
        }
      ],
      "source": [
        "import numpy as np\n",
        "x = np.array([100,120,140])\n",
        "m = np.array([80,60,90])\n",
        "bc = x - m\n",
        "print (bc)"
      ]
    },
    {
      "cell_type": "code",
      "source": [
        "#modelo macro. 1) x = a*Y, 2) m = b.Y, 3) bc = x - m\n",
        "import matplotlib.pyplot as plt"
      ],
      "metadata": {
        "id": "k2EMePfeKzqg"
      },
      "execution_count": 3,
      "outputs": []
    },
    {
      "cell_type": "code",
      "source": [
        "#Ecuacion 1\n",
        "a = 0.25\n",
        "Y = np.array([10,20,30,40])\n",
        "X = a*Y\n",
        "print (X)\n",
        "plt.plot(X,Y)"
      ],
      "metadata": {
        "colab": {
          "base_uri": "https://localhost:8080/",
          "height": 300
        },
        "id": "-6aCp2zFLbCM",
        "outputId": "963ae09f-0a91-4133-f534-9ed2b67f9412"
      },
      "execution_count": 13,
      "outputs": [
        {
          "output_type": "stream",
          "name": "stdout",
          "text": [
            "[ 2.5  5.   7.5 10. ]\n"
          ]
        },
        {
          "output_type": "execute_result",
          "data": {
            "text/plain": [
              "[<matplotlib.lines.Line2D at 0x7f17cf5623d0>]"
            ]
          },
          "metadata": {},
          "execution_count": 13
        },
        {
          "output_type": "display_data",
          "data": {
            "text/plain": [
              "<Figure size 432x288 with 1 Axes>"
            ],
            "image/png": "[encoded data removed]"
          },
          "metadata": {
            "needs_background": "light"
          }
        }
      ]
    },
    {
      "cell_type": "code",
      "source": [
        "#Ecuacion 2\n",
        "b = 0.15\n",
        "M = b*Y\n",
        "print (M)"
      ],
      "metadata": {
        "colab": {
          "base_uri": "https://localhost:8080/"
        },
        "id": "jACM9FobNzmZ",
        "outputId": "52266a60-0f61-462c-dd98-f08ca6472d3f"
      },
      "execution_count": 14,
      "outputs": [
        {
          "output_type": "stream",
          "name": "stdout",
          "text": [
            "[1.5 3.  4.5 6. ]\n"
          ]
        }
      ]
    },
    {
      "cell_type": "code",
      "source": [
        "#Ecuacion 3\n",
        "BC = X - M\n",
        "print (BC)\n",
        "plt.plot (Y,BC)\n",
        "plt.xlabel(\"PBI\")\n",
        "plt.ylabel(\"Balanza Comercial\")"
      ],
      "metadata": {
        "colab": {
          "base_uri": "https://localhost:8080/",
          "height": 314
        },
        "id": "tz8AgCjIOfdh",
        "outputId": "897c4ff6-392c-41e0-baca-7139a2207ee5"
      },
      "execution_count": 17,
      "outputs": [
        {
          "output_type": "stream",
          "name": "stdout",
          "text": [
            "[1. 2. 3. 4.]\n"
          ]
        },
        {
          "output_type": "execute_result",
          "data": {
            "text/plain": [
              "Text(0, 0.5, 'Balanza Comercial')"
            ]
          },
          "metadata": {},
          "execution_count": 17
        },
        {
          "output_type": "display_data",
          "data": {
            "text/plain": [
              "<Figure size 432x288 with 1 Axes>"
            ],
            "image/png": "[encoded data removed]"
          },
          "metadata": {
            "needs_background": "light"
          }
        }
      ]
    },
    {
      "cell_type": "code",
      "source": [
        "X0 = 5\n",
        "M0 = 8\n",
        "#BC = X0 + aY -M0 - bY = (X0 - M0) + (a-b)Y\n",
        "X = X0 + a*Y\n",
        "M = M0 + b*Y\n",
        "BC = X-M\n",
        "print(BC)\n",
        "plt.plot(Y,BC)\n",
        "plt.xlabel(\"PBI\")\n",
        "plt.ylabel(\"Balanza Comercial\")"
      ],
      "metadata": {
        "colab": {
          "base_uri": "https://localhost:8080/",
          "height": 314
        },
        "id": "GmE6Ng9SP2e7",
        "outputId": "c2d14540-4436-414d-f461-957b6a0be4a5"
      },
      "execution_count": 23,
      "outputs": [
        {
          "output_type": "stream",
          "name": "stdout",
          "text": [
            "[-2. -1.  0.  1.]\n"
          ]
        },
        {
          "output_type": "execute_result",
          "data": {
            "text/plain": [
              "Text(0, 0.5, 'Balanza Comercial')"
            ]
          },
          "metadata": {},
          "execution_count": 23
        },
        {
          "output_type": "display_data",
          "data": {
            "text/plain": [
              "<Figure size 432x288 with 1 Axes>"
            ],
            "image/png": "[encoded data removed]"
          },
          "metadata": {
            "needs_background": "light"
          }
        }
      ]
    },
    {
      "cell_type": "code",
      "source": [
        "from ast import Yield\n",
        "#incluir consumo gasto e inversion\n",
        "#C = f(Y)\n",
        "#G = f(Y)\n",
        "#I = f(Y)\n",
        "#DI = C+G+I\n",
        "\n",
        "#IMPORTACION DE PAQUETES\n",
        "import matplotlib.pyplot as plt\n",
        "import numpy as np\n",
        "\n",
        "#CREACION DE LA VARIABLE Y\n",
        "Y = np.array([100,200,300,400])\n",
        "i = np.array([0.7,0.6,0.5,0.4])\n",
        "#COEFICIENTES DEL MODELO\n",
        "x=0.25\n",
        "m=0.15\n",
        "c=0.1\n",
        "C0=80\n",
        "G0=50\n",
        "I0=20\n",
        "t=0.3\n",
        "b2=0.2\n",
        "x0 = 5\n",
        "m0 = 8\n",
        "g=0.2\n",
        "\n",
        "b1=7\n",
        "\n",
        "#MODELAMIENTO DE ECUACIONES\n",
        "C = C0 + c*Y\n",
        "G = G0 + g*Y\n",
        "I = I0 + b1*i + b2*Y\n",
        "DI = C+G+I\n",
        "X = x0 + x*Y\n",
        "M = m0 + m*Y\n",
        "BC = X-M\n",
        "\n",
        "T=t*Y\n",
        "DEF= G - T\n",
        "#GRAFICANDO\n",
        "print(BC)\n",
        "plt.plot(Y,BC)\n",
        "plt.xlabel(\"PBI\")\n",
        "plt.ylabel(\"Balanza Comercial\")\n",
        "print(DI)\n",
        "print(DEF)\n",
        "plt.plot(Y,BC) and plt.plot(Y,DEF)\n",
        "\n",
        "#INTRODUCIENDO NUEVA VARIABLE DE TASA DE INTERES\n"
      ],
      "metadata": {
        "colab": {
          "base_uri": "https://localhost:8080/",
          "height": 348
        },
        "id": "E2K9zcffWZao",
        "outputId": "76ba3d16-421e-40fe-c515-0c487871316b"
      },
      "execution_count": 33,
      "outputs": [
        {
          "output_type": "stream",
          "name": "stdout",
          "text": [
            "[ 7. 17. 27. 37.]\n",
            "[204.9 254.2 303.5 352.8]\n",
            "[40. 30. 20. 10.]\n"
          ]
        },
        {
          "output_type": "execute_result",
          "data": {
            "text/plain": [
              "[<matplotlib.lines.Line2D at 0x7f17cedc5550>]"
            ]
          },
          "metadata": {},
          "execution_count": 33
        },
        {
          "output_type": "display_data",
          "data": {
            "text/plain": [
              "<Figure size 432x288 with 1 Axes>"
            ],
            "image/png": "[encoded data removed]"
          },
          "metadata": {
            "needs_background": "light"
          }
        }
      ]
    }
  ]
}